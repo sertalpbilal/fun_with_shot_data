{
 "cells": [
  {
   "cell_type": "code",
   "execution_count": 1,
   "metadata": {},
   "outputs": [],
   "source": [
    "import pandas as pd\n",
    "import numpy as np\n",
    "import seaborn as sns\n",
    "import matplotlib.pyplot as plt\n",
    "from sklearn.preprocessing import StandardScaler\n",
    "from sklearn.metrics import accuracy_score, roc_auc_score, average_precision_score, plot_roc_curve, RocCurveDisplay, roc_curve\n",
    "from xgboost import XGBClassifier\n",
    "from sklearn.model_selection import train_test_split\n",
    "import tensorflow as tf\n",
    "from sklearn.base import BaseEstimator, RegressorMixin"
   ]
  },
  {
   "cell_type": "code",
   "execution_count": 2,
   "metadata": {},
   "outputs": [
    {
     "data": {
      "text/html": [
       "<div>\n",
       "<style scoped>\n",
       "    .dataframe tbody tr th:only-of-type {\n",
       "        vertical-align: middle;\n",
       "    }\n",
       "\n",
       "    .dataframe tbody tr th {\n",
       "        vertical-align: top;\n",
       "    }\n",
       "\n",
       "    .dataframe thead th {\n",
       "        text-align: right;\n",
       "    }\n",
       "</style>\n",
       "<table border=\"1\" class=\"dataframe\">\n",
       "  <thead>\n",
       "    <tr style=\"text-align: right;\">\n",
       "      <th></th>\n",
       "      <th>Unnamed: 0</th>\n",
       "      <th>id</th>\n",
       "      <th>minute</th>\n",
       "      <th>result</th>\n",
       "      <th>X</th>\n",
       "      <th>Y</th>\n",
       "      <th>xG</th>\n",
       "      <th>player</th>\n",
       "      <th>h_a</th>\n",
       "      <th>player_id</th>\n",
       "      <th>...</th>\n",
       "      <th>season</th>\n",
       "      <th>shotType</th>\n",
       "      <th>match_id</th>\n",
       "      <th>h_team</th>\n",
       "      <th>a_team</th>\n",
       "      <th>h_goals</th>\n",
       "      <th>a_goals</th>\n",
       "      <th>date</th>\n",
       "      <th>player_assisted</th>\n",
       "      <th>lastAction</th>\n",
       "    </tr>\n",
       "  </thead>\n",
       "  <tbody>\n",
       "    <tr>\n",
       "      <th>0</th>\n",
       "      <td>0</td>\n",
       "      <td>14642</td>\n",
       "      <td>83</td>\n",
       "      <td>BlockedShot</td>\n",
       "      <td>0.795</td>\n",
       "      <td>0.321</td>\n",
       "      <td>0.047510</td>\n",
       "      <td>Harry Kane</td>\n",
       "      <td>a</td>\n",
       "      <td>647</td>\n",
       "      <td>...</td>\n",
       "      <td>2014</td>\n",
       "      <td>RightFoot</td>\n",
       "      <td>4754</td>\n",
       "      <td>West Ham</td>\n",
       "      <td>Tottenham</td>\n",
       "      <td>0</td>\n",
       "      <td>1</td>\n",
       "      <td>2014-08-16 15:00:00</td>\n",
       "      <td>Andros Townsend</td>\n",
       "      <td>Pass</td>\n",
       "    </tr>\n",
       "    <tr>\n",
       "      <th>1</th>\n",
       "      <td>1</td>\n",
       "      <td>15400</td>\n",
       "      <td>81</td>\n",
       "      <td>OwnGoal</td>\n",
       "      <td>0.029</td>\n",
       "      <td>0.582</td>\n",
       "      <td>0.000000</td>\n",
       "      <td>Harry Kane</td>\n",
       "      <td>a</td>\n",
       "      <td>647</td>\n",
       "      <td>...</td>\n",
       "      <td>2014</td>\n",
       "      <td>OtherBodyPart</td>\n",
       "      <td>4724</td>\n",
       "      <td>Sunderland</td>\n",
       "      <td>Tottenham</td>\n",
       "      <td>2</td>\n",
       "      <td>2</td>\n",
       "      <td>2014-09-13 15:00:00</td>\n",
       "      <td>NaN</td>\n",
       "      <td>Foul</td>\n",
       "    </tr>\n",
       "    <tr>\n",
       "      <th>2</th>\n",
       "      <td>2</td>\n",
       "      <td>16333</td>\n",
       "      <td>68</td>\n",
       "      <td>SavedShot</td>\n",
       "      <td>0.906</td>\n",
       "      <td>0.469</td>\n",
       "      <td>0.435830</td>\n",
       "      <td>Harry Kane</td>\n",
       "      <td>h</td>\n",
       "      <td>647</td>\n",
       "      <td>...</td>\n",
       "      <td>2014</td>\n",
       "      <td>LeftFoot</td>\n",
       "      <td>4715</td>\n",
       "      <td>Tottenham</td>\n",
       "      <td>Newcastle United</td>\n",
       "      <td>1</td>\n",
       "      <td>2</td>\n",
       "      <td>2014-10-26 13:30:00</td>\n",
       "      <td>Danny Rose</td>\n",
       "      <td>Pass</td>\n",
       "    </tr>\n",
       "    <tr>\n",
       "      <th>3</th>\n",
       "      <td>3</td>\n",
       "      <td>16901</td>\n",
       "      <td>58</td>\n",
       "      <td>SavedShot</td>\n",
       "      <td>0.917</td>\n",
       "      <td>0.463</td>\n",
       "      <td>0.085788</td>\n",
       "      <td>Harry Kane</td>\n",
       "      <td>a</td>\n",
       "      <td>647</td>\n",
       "      <td>...</td>\n",
       "      <td>2014</td>\n",
       "      <td>Head</td>\n",
       "      <td>4657</td>\n",
       "      <td>Aston Villa</td>\n",
       "      <td>Tottenham</td>\n",
       "      <td>1</td>\n",
       "      <td>2</td>\n",
       "      <td>2014-11-02 16:00:00</td>\n",
       "      <td>Erik Lamela</td>\n",
       "      <td>Cross</td>\n",
       "    </tr>\n",
       "    <tr>\n",
       "      <th>4</th>\n",
       "      <td>4</td>\n",
       "      <td>16909</td>\n",
       "      <td>89</td>\n",
       "      <td>Goal</td>\n",
       "      <td>0.761</td>\n",
       "      <td>0.415</td>\n",
       "      <td>0.067692</td>\n",
       "      <td>Harry Kane</td>\n",
       "      <td>a</td>\n",
       "      <td>647</td>\n",
       "      <td>...</td>\n",
       "      <td>2014</td>\n",
       "      <td>RightFoot</td>\n",
       "      <td>4657</td>\n",
       "      <td>Aston Villa</td>\n",
       "      <td>Tottenham</td>\n",
       "      <td>1</td>\n",
       "      <td>2</td>\n",
       "      <td>2014-11-02 16:00:00</td>\n",
       "      <td>NaN</td>\n",
       "      <td>Standard</td>\n",
       "    </tr>\n",
       "  </tbody>\n",
       "</table>\n",
       "<p>5 rows × 21 columns</p>\n",
       "</div>"
      ],
      "text/plain": [
       "   Unnamed: 0     id  minute       result      X      Y        xG      player  \\\n",
       "0           0  14642      83  BlockedShot  0.795  0.321  0.047510  Harry Kane   \n",
       "1           1  15400      81      OwnGoal  0.029  0.582  0.000000  Harry Kane   \n",
       "2           2  16333      68    SavedShot  0.906  0.469  0.435830  Harry Kane   \n",
       "3           3  16901      58    SavedShot  0.917  0.463  0.085788  Harry Kane   \n",
       "4           4  16909      89         Goal  0.761  0.415  0.067692  Harry Kane   \n",
       "\n",
       "  h_a  player_id  ... season       shotType match_id       h_team  \\\n",
       "0   a        647  ...   2014      RightFoot     4754     West Ham   \n",
       "1   a        647  ...   2014  OtherBodyPart     4724   Sunderland   \n",
       "2   h        647  ...   2014       LeftFoot     4715    Tottenham   \n",
       "3   a        647  ...   2014           Head     4657  Aston Villa   \n",
       "4   a        647  ...   2014      RightFoot     4657  Aston Villa   \n",
       "\n",
       "             a_team h_goals  a_goals                 date  player_assisted  \\\n",
       "0         Tottenham       0        1  2014-08-16 15:00:00  Andros Townsend   \n",
       "1         Tottenham       2        2  2014-09-13 15:00:00              NaN   \n",
       "2  Newcastle United       1        2  2014-10-26 13:30:00       Danny Rose   \n",
       "3         Tottenham       1        2  2014-11-02 16:00:00      Erik Lamela   \n",
       "4         Tottenham       1        2  2014-11-02 16:00:00              NaN   \n",
       "\n",
       "  lastAction  \n",
       "0       Pass  \n",
       "1       Foul  \n",
       "2       Pass  \n",
       "3      Cross  \n",
       "4   Standard  \n",
       "\n",
       "[5 rows x 21 columns]"
      ]
     },
     "execution_count": 2,
     "metadata": {},
     "output_type": "execute_result"
    }
   ],
   "source": [
    "df = pd.read_csv(\"../data/FULL_Shot_Data.csv\")\n",
    "df.head()"
   ]
  },
  {
   "cell_type": "code",
   "execution_count": 3,
   "metadata": {},
   "outputs": [
    {
     "data": {
      "text/html": [
       "<div>\n",
       "<style scoped>\n",
       "    .dataframe tbody tr th:only-of-type {\n",
       "        vertical-align: middle;\n",
       "    }\n",
       "\n",
       "    .dataframe tbody tr th {\n",
       "        vertical-align: top;\n",
       "    }\n",
       "\n",
       "    .dataframe thead th {\n",
       "        text-align: right;\n",
       "    }\n",
       "</style>\n",
       "<table border=\"1\" class=\"dataframe\">\n",
       "  <thead>\n",
       "    <tr style=\"text-align: right;\">\n",
       "      <th></th>\n",
       "      <th>Unnamed: 0</th>\n",
       "      <th>id</th>\n",
       "      <th>minute</th>\n",
       "      <th>result</th>\n",
       "      <th>X</th>\n",
       "      <th>Y</th>\n",
       "      <th>xG</th>\n",
       "      <th>player</th>\n",
       "      <th>h_a</th>\n",
       "      <th>player_id</th>\n",
       "      <th>situation</th>\n",
       "      <th>season</th>\n",
       "      <th>shotType</th>\n",
       "      <th>match_id</th>\n",
       "      <th>h_team</th>\n",
       "      <th>a_team</th>\n",
       "      <th>h_goals</th>\n",
       "      <th>a_goals</th>\n",
       "      <th>date</th>\n",
       "      <th>player_assisted</th>\n",
       "      <th>lastAction</th>\n",
       "      <th>dominant_foot</th>\n",
       "      <th>is_dominant</th>\n",
       "      <th>is_foot</th>\n",
       "    </tr>\n",
       "  </thead>\n",
       "  <tbody>\n",
       "    <tr>\n",
       "      <th>0</th>\n",
       "      <td>0</td>\n",
       "      <td>14642</td>\n",
       "      <td>83</td>\n",
       "      <td>BlockedShot</td>\n",
       "      <td>0.795</td>\n",
       "      <td>0.321</td>\n",
       "      <td>0.047510</td>\n",
       "      <td>Harry Kane</td>\n",
       "      <td>a</td>\n",
       "      <td>647</td>\n",
       "      <td>OpenPlay</td>\n",
       "      <td>2014</td>\n",
       "      <td>RightFoot</td>\n",
       "      <td>4754</td>\n",
       "      <td>West Ham</td>\n",
       "      <td>Tottenham</td>\n",
       "      <td>0</td>\n",
       "      <td>1</td>\n",
       "      <td>2014-08-16 15:00:00</td>\n",
       "      <td>Andros Townsend</td>\n",
       "      <td>Pass</td>\n",
       "      <td>RightFoot</td>\n",
       "      <td>1</td>\n",
       "      <td>1</td>\n",
       "    </tr>\n",
       "    <tr>\n",
       "      <th>1</th>\n",
       "      <td>1</td>\n",
       "      <td>15400</td>\n",
       "      <td>81</td>\n",
       "      <td>OwnGoal</td>\n",
       "      <td>0.029</td>\n",
       "      <td>0.582</td>\n",
       "      <td>0.000000</td>\n",
       "      <td>Harry Kane</td>\n",
       "      <td>a</td>\n",
       "      <td>647</td>\n",
       "      <td>SetPiece</td>\n",
       "      <td>2014</td>\n",
       "      <td>OtherBodyPart</td>\n",
       "      <td>4724</td>\n",
       "      <td>Sunderland</td>\n",
       "      <td>Tottenham</td>\n",
       "      <td>2</td>\n",
       "      <td>2</td>\n",
       "      <td>2014-09-13 15:00:00</td>\n",
       "      <td>NaN</td>\n",
       "      <td>Foul</td>\n",
       "      <td>RightFoot</td>\n",
       "      <td>0</td>\n",
       "      <td>0</td>\n",
       "    </tr>\n",
       "    <tr>\n",
       "      <th>2</th>\n",
       "      <td>2</td>\n",
       "      <td>16333</td>\n",
       "      <td>68</td>\n",
       "      <td>SavedShot</td>\n",
       "      <td>0.906</td>\n",
       "      <td>0.469</td>\n",
       "      <td>0.435830</td>\n",
       "      <td>Harry Kane</td>\n",
       "      <td>h</td>\n",
       "      <td>647</td>\n",
       "      <td>OpenPlay</td>\n",
       "      <td>2014</td>\n",
       "      <td>LeftFoot</td>\n",
       "      <td>4715</td>\n",
       "      <td>Tottenham</td>\n",
       "      <td>Newcastle United</td>\n",
       "      <td>1</td>\n",
       "      <td>2</td>\n",
       "      <td>2014-10-26 13:30:00</td>\n",
       "      <td>Danny Rose</td>\n",
       "      <td>Pass</td>\n",
       "      <td>RightFoot</td>\n",
       "      <td>0</td>\n",
       "      <td>1</td>\n",
       "    </tr>\n",
       "    <tr>\n",
       "      <th>3</th>\n",
       "      <td>3</td>\n",
       "      <td>16901</td>\n",
       "      <td>58</td>\n",
       "      <td>SavedShot</td>\n",
       "      <td>0.917</td>\n",
       "      <td>0.463</td>\n",
       "      <td>0.085788</td>\n",
       "      <td>Harry Kane</td>\n",
       "      <td>a</td>\n",
       "      <td>647</td>\n",
       "      <td>FromCorner</td>\n",
       "      <td>2014</td>\n",
       "      <td>Head</td>\n",
       "      <td>4657</td>\n",
       "      <td>Aston Villa</td>\n",
       "      <td>Tottenham</td>\n",
       "      <td>1</td>\n",
       "      <td>2</td>\n",
       "      <td>2014-11-02 16:00:00</td>\n",
       "      <td>Erik Lamela</td>\n",
       "      <td>Cross</td>\n",
       "      <td>RightFoot</td>\n",
       "      <td>0</td>\n",
       "      <td>0</td>\n",
       "    </tr>\n",
       "    <tr>\n",
       "      <th>4</th>\n",
       "      <td>4</td>\n",
       "      <td>16909</td>\n",
       "      <td>89</td>\n",
       "      <td>Goal</td>\n",
       "      <td>0.761</td>\n",
       "      <td>0.415</td>\n",
       "      <td>0.067692</td>\n",
       "      <td>Harry Kane</td>\n",
       "      <td>a</td>\n",
       "      <td>647</td>\n",
       "      <td>DirectFreekick</td>\n",
       "      <td>2014</td>\n",
       "      <td>RightFoot</td>\n",
       "      <td>4657</td>\n",
       "      <td>Aston Villa</td>\n",
       "      <td>Tottenham</td>\n",
       "      <td>1</td>\n",
       "      <td>2</td>\n",
       "      <td>2014-11-02 16:00:00</td>\n",
       "      <td>NaN</td>\n",
       "      <td>Standard</td>\n",
       "      <td>RightFoot</td>\n",
       "      <td>1</td>\n",
       "      <td>1</td>\n",
       "    </tr>\n",
       "  </tbody>\n",
       "</table>\n",
       "</div>"
      ],
      "text/plain": [
       "   Unnamed: 0     id  minute       result      X      Y        xG      player  \\\n",
       "0           0  14642      83  BlockedShot  0.795  0.321  0.047510  Harry Kane   \n",
       "1           1  15400      81      OwnGoal  0.029  0.582  0.000000  Harry Kane   \n",
       "2           2  16333      68    SavedShot  0.906  0.469  0.435830  Harry Kane   \n",
       "3           3  16901      58    SavedShot  0.917  0.463  0.085788  Harry Kane   \n",
       "4           4  16909      89         Goal  0.761  0.415  0.067692  Harry Kane   \n",
       "\n",
       "  h_a  player_id       situation  season       shotType  match_id  \\\n",
       "0   a        647        OpenPlay    2014      RightFoot      4754   \n",
       "1   a        647        SetPiece    2014  OtherBodyPart      4724   \n",
       "2   h        647        OpenPlay    2014       LeftFoot      4715   \n",
       "3   a        647      FromCorner    2014           Head      4657   \n",
       "4   a        647  DirectFreekick    2014      RightFoot      4657   \n",
       "\n",
       "        h_team            a_team  h_goals  a_goals                 date  \\\n",
       "0     West Ham         Tottenham        0        1  2014-08-16 15:00:00   \n",
       "1   Sunderland         Tottenham        2        2  2014-09-13 15:00:00   \n",
       "2    Tottenham  Newcastle United        1        2  2014-10-26 13:30:00   \n",
       "3  Aston Villa         Tottenham        1        2  2014-11-02 16:00:00   \n",
       "4  Aston Villa         Tottenham        1        2  2014-11-02 16:00:00   \n",
       "\n",
       "   player_assisted lastAction dominant_foot  is_dominant  is_foot  \n",
       "0  Andros Townsend       Pass     RightFoot            1        1  \n",
       "1              NaN       Foul     RightFoot            0        0  \n",
       "2       Danny Rose       Pass     RightFoot            0        1  \n",
       "3      Erik Lamela      Cross     RightFoot            0        0  \n",
       "4              NaN   Standard     RightFoot            1        1  "
      ]
     },
     "execution_count": 3,
     "metadata": {},
     "output_type": "execute_result"
    }
   ],
   "source": [
    "# Find dominant foot\n",
    "def get_top_style(row):\n",
    "    return row['shotType'].value_counts().idxmax()\n",
    "def replace_na(r):\n",
    "    if r not in ['RightFoot', 'LeftFoot']:\n",
    "        return None\n",
    "    return r\n",
    "dominant_foot = df.groupby('player_id').apply(get_top_style)\n",
    "df2 = dominant_foot.apply(replace_na)\n",
    "df_dict = df2.to_dict()\n",
    "df['dominant_foot'] = df['player_id'].apply(lambda x: df_dict[x])\n",
    "df['is_dominant'] = (df['dominant_foot'] == df['shotType']).astype(int)\n",
    "df['is_foot'] = (df['shotType'].isin(['RightFoot', 'LeftFoot'])).astype(int)\n",
    "pd.set_option('display.max_columns', None)\n",
    "df.head()"
   ]
  },
  {
   "cell_type": "code",
   "execution_count": 4,
   "metadata": {},
   "outputs": [
    {
     "name": "stdout",
     "output_type": "stream",
     "text": [
      "['OpenPlay' 'SetPiece' 'FromCorner' 'DirectFreekick' 'Penalty']\n"
     ]
    }
   ],
   "source": [
    "situations = df['situation'].unique()\n",
    "print(situations)"
   ]
  },
  {
   "cell_type": "code",
   "execution_count": 5,
   "metadata": {},
   "outputs": [],
   "source": [
    "class SituationRegressor(BaseEstimator, RegressorMixin):\n",
    "\n",
    "    def __init__(self, **kwargs):\n",
    "        self.situations = situations\n",
    "        self.models = {s: XGBClassifier(**kwargs) for s in self.situations}\n",
    "\n",
    "    def fit(self, X, y=None):\n",
    "        for s in self.situations:\n",
    "            filtered = X[:,0] == s\n",
    "            self.models[s].fit(X[filtered, 1:], y[filtered])\n",
    "        return self\n",
    "\n",
    "    def predict(self, X, y=None):\n",
    "        df = pd.DataFrame(X)\n",
    "        df2 = df.copy()\n",
    "        df2['result'] = 0\n",
    "        for s in situations:\n",
    "            vals = df[df[0] == s]\n",
    "            input_values = vals.iloc[:,1:].to_numpy()\n",
    "            v = self.models[s].predict(input_values)\n",
    "            df2.loc[df[0]==s, 'result'] = list(v)\n",
    "        return (df2['result'].astype(int)).to_numpy()\n",
    "\n",
    "    def predict_proba(self, X):\n",
    "        df = pd.DataFrame(X)\n",
    "        df2 = df.copy()\n",
    "        df2['r1'] = 0.0\n",
    "        df2['r2'] = 0.0\n",
    "        for s in situations:\n",
    "            vals = df[df[0] == s]\n",
    "            input_values = vals.iloc[:,1:].to_numpy()\n",
    "            v = self.models[s].predict_proba(input_values)\n",
    "            df2.loc[df[0]==s, ['r1', 'r2']] = v\n",
    "        return (df2[['r1', 'r2']].astype(float)).to_numpy()"
   ]
  },
  {
   "cell_type": "code",
   "execution_count": 6,
   "metadata": {},
   "outputs": [],
   "source": [
    "attack_df = df[(df['result'] != 'OwnGoal')].copy()"
   ]
  },
  {
   "cell_type": "code",
   "execution_count": 7,
   "metadata": {},
   "outputs": [],
   "source": [
    "attack_df['outcome'] = (attack_df['result'] == 'Goal').astype(int)"
   ]
  },
  {
   "cell_type": "code",
   "execution_count": 8,
   "metadata": {},
   "outputs": [
    {
     "data": {
      "text/html": [
       "<div>\n",
       "<style scoped>\n",
       "    .dataframe tbody tr th:only-of-type {\n",
       "        vertical-align: middle;\n",
       "    }\n",
       "\n",
       "    .dataframe tbody tr th {\n",
       "        vertical-align: top;\n",
       "    }\n",
       "\n",
       "    .dataframe thead th {\n",
       "        text-align: right;\n",
       "    }\n",
       "</style>\n",
       "<table border=\"1\" class=\"dataframe\">\n",
       "  <thead>\n",
       "    <tr style=\"text-align: right;\">\n",
       "      <th></th>\n",
       "      <th>situation</th>\n",
       "      <th>X</th>\n",
       "      <th>Y</th>\n",
       "      <th>is_foot</th>\n",
       "      <th>is_dominant</th>\n",
       "      <th>Head</th>\n",
       "      <th>LeftFoot</th>\n",
       "      <th>OtherBodyPart</th>\n",
       "      <th>RightFoot</th>\n",
       "    </tr>\n",
       "  </thead>\n",
       "  <tbody>\n",
       "    <tr>\n",
       "      <th>0</th>\n",
       "      <td>OpenPlay</td>\n",
       "      <td>0.795</td>\n",
       "      <td>0.321</td>\n",
       "      <td>1</td>\n",
       "      <td>1</td>\n",
       "      <td>0</td>\n",
       "      <td>0</td>\n",
       "      <td>0</td>\n",
       "      <td>1</td>\n",
       "    </tr>\n",
       "    <tr>\n",
       "      <th>2</th>\n",
       "      <td>OpenPlay</td>\n",
       "      <td>0.906</td>\n",
       "      <td>0.469</td>\n",
       "      <td>1</td>\n",
       "      <td>0</td>\n",
       "      <td>0</td>\n",
       "      <td>1</td>\n",
       "      <td>0</td>\n",
       "      <td>0</td>\n",
       "    </tr>\n",
       "    <tr>\n",
       "      <th>3</th>\n",
       "      <td>FromCorner</td>\n",
       "      <td>0.917</td>\n",
       "      <td>0.463</td>\n",
       "      <td>0</td>\n",
       "      <td>0</td>\n",
       "      <td>1</td>\n",
       "      <td>0</td>\n",
       "      <td>0</td>\n",
       "      <td>0</td>\n",
       "    </tr>\n",
       "    <tr>\n",
       "      <th>4</th>\n",
       "      <td>DirectFreekick</td>\n",
       "      <td>0.761</td>\n",
       "      <td>0.415</td>\n",
       "      <td>1</td>\n",
       "      <td>1</td>\n",
       "      <td>0</td>\n",
       "      <td>0</td>\n",
       "      <td>0</td>\n",
       "      <td>1</td>\n",
       "    </tr>\n",
       "    <tr>\n",
       "      <th>5</th>\n",
       "      <td>OpenPlay</td>\n",
       "      <td>0.981</td>\n",
       "      <td>0.558</td>\n",
       "      <td>0</td>\n",
       "      <td>0</td>\n",
       "      <td>1</td>\n",
       "      <td>0</td>\n",
       "      <td>0</td>\n",
       "      <td>0</td>\n",
       "    </tr>\n",
       "  </tbody>\n",
       "</table>\n",
       "</div>"
      ],
      "text/plain": [
       "        situation      X      Y  is_foot  is_dominant  Head  LeftFoot  \\\n",
       "0        OpenPlay  0.795  0.321        1            1     0         0   \n",
       "2        OpenPlay  0.906  0.469        1            0     0         1   \n",
       "3      FromCorner  0.917  0.463        0            0     1         0   \n",
       "4  DirectFreekick  0.761  0.415        1            1     0         0   \n",
       "5        OpenPlay  0.981  0.558        0            0     1         0   \n",
       "\n",
       "   OtherBodyPart  RightFoot  \n",
       "0              0          1  \n",
       "2              0          0  \n",
       "3              0          0  \n",
       "4              0          1  \n",
       "5              0          0  "
      ]
     },
     "execution_count": 8,
     "metadata": {},
     "output_type": "execute_result"
    }
   ],
   "source": [
    "input_data = attack_df[['X', 'Y', 'situation', 'shotType', 'is_foot', 'is_dominant', 'outcome']].copy()\n",
    "input_data_encoded = pd.concat([\n",
    "        input_data[['situation', 'X', 'Y', 'is_foot', 'is_dominant']],\n",
    "        pd.get_dummies(input_data['shotType'])\n",
    "        ], axis=1)\n",
    "output_data = input_data['outcome']\n",
    "input_data_encoded.head()"
   ]
  },
  {
   "cell_type": "code",
   "execution_count": 9,
   "metadata": {},
   "outputs": [],
   "source": [
    "X_train, X_test, y_train, y_test = train_test_split(input_data_encoded.values, output_data.values, random_state=0, test_size=0.3)"
   ]
  },
  {
   "cell_type": "code",
   "execution_count": 10,
   "metadata": {},
   "outputs": [
    {
     "name": "stdout",
     "output_type": "stream",
     "text": [
      "[22:06:04] WARNING: C:/Users/Administrator/workspace/xgboost-win64_release_1.4.0/src/learner.cc:1095: Starting in XGBoost 1.3.0, the default evaluation metric used with the objective 'binary:logistic' was changed from 'error' to 'logloss'. Explicitly set eval_metric if you'd like to restore the old behavior.\n",
      "[22:06:06] WARNING: C:/Users/Administrator/workspace/xgboost-win64_release_1.4.0/src/learner.cc:1095: Starting in XGBoost 1.3.0, the default evaluation metric used with the objective 'binary:logistic' was changed from 'error' to 'logloss'. Explicitly set eval_metric if you'd like to restore the old behavior.\n",
      "[22:06:06] WARNING: C:/Users/Administrator/workspace/xgboost-win64_release_1.4.0/src/learner.cc:1095: Starting in XGBoost 1.3.0, the default evaluation metric used with the objective 'binary:logistic' was changed from 'error' to 'logloss'. Explicitly set eval_metric if you'd like to restore the old behavior.\n",
      "[22:06:06] WARNING: C:/Users/Administrator/workspace/xgboost-win64_release_1.4.0/src/learner.cc:1095: Starting in XGBoost 1.3.0, the default evaluation metric used with the objective 'binary:logistic' was changed from 'error' to 'logloss'. Explicitly set eval_metric if you'd like to restore the old behavior.\n",
      "[22:06:07] WARNING: C:/Users/Administrator/workspace/xgboost-win64_release_1.4.0/src/learner.cc:1095: Starting in XGBoost 1.3.0, the default evaluation metric used with the objective 'binary:logistic' was changed from 'error' to 'logloss'. Explicitly set eval_metric if you'd like to restore the old behavior.\n"
     ]
    },
    {
     "data": {
      "text/plain": [
       "SituationRegressor()"
      ]
     },
     "execution_count": 10,
     "metadata": {},
     "output_type": "execute_result"
    }
   ],
   "source": [
    "# reg = XGBClassifier(scale_pos_weight=1, use_label_encoder=False)\n",
    "# reg.fit(X_train, y_train)\n",
    "reg = SituationRegressor(use_label_encoder=False)\n",
    "reg.fit(X_train, y_train)"
   ]
  },
  {
   "cell_type": "code",
   "execution_count": 11,
   "metadata": {},
   "outputs": [
    {
     "data": {
      "text/plain": [
       "0"
      ]
     },
     "execution_count": 11,
     "metadata": {},
     "output_type": "execute_result"
    }
   ],
   "source": [
    "reg.models['OpenPlay'].predict(X_test[0,1:].reshape(1, len(X_test[0,1:])))[0]\n",
    "# reg.models['OpenPlay'].predict([list(X_test[0,1:])])\n",
    "# list(X_test[0,1:])"
   ]
  },
  {
   "cell_type": "code",
   "execution_count": 12,
   "metadata": {},
   "outputs": [
    {
     "data": {
      "text/plain": [
       "array([0, 0, 0, ..., 0, 0, 0])"
      ]
     },
     "execution_count": 12,
     "metadata": {},
     "output_type": "execute_result"
    }
   ],
   "source": [
    "reg.predict(X_test)"
   ]
  },
  {
   "cell_type": "code",
   "execution_count": 13,
   "metadata": {},
   "outputs": [],
   "source": [
    "y_pred = reg.predict(X_test)"
   ]
  },
  {
   "cell_type": "code",
   "execution_count": 14,
   "metadata": {},
   "outputs": [
    {
     "data": {
      "text/plain": [
       "(array([0, 0, 0, ..., 0, 0, 0]), array([0, 0, 0, ..., 0, 0, 0]))"
      ]
     },
     "execution_count": 14,
     "metadata": {},
     "output_type": "execute_result"
    }
   ],
   "source": [
    "y_pred, y_test"
   ]
  },
  {
   "cell_type": "code",
   "execution_count": 15,
   "metadata": {},
   "outputs": [
    {
     "name": "stdout",
     "output_type": "stream",
     "text": [
      "Test 0.904131987023943 Train 0.9081390754642433 ROC AUC Score 0.5875795838446484 PR AUC Score 0.2117386178679419\n"
     ]
    }
   ],
   "source": [
    "print(\"Test\", accuracy_score(y_pred, y_test), \"Train\", accuracy_score(reg.predict(X_train), y_train), \"ROC AUC Score\", roc_auc_score(y_test, y_pred), \"PR AUC Score\", average_precision_score(y_test, y_pred))\n",
    "       "
   ]
  },
  {
   "cell_type": "code",
   "execution_count": 16,
   "metadata": {},
   "outputs": [
    {
     "data": {
      "text/plain": [
       "array([0.02196724, 0.23317213, 0.07423946, ..., 0.0050854 , 0.01545448,\n",
       "       0.10592528])"
      ]
     },
     "execution_count": 16,
     "metadata": {},
     "output_type": "execute_result"
    }
   ],
   "source": [
    "p_vals = reg.predict_proba(input_data_encoded.values)[:,1]\n",
    "p_vals"
   ]
  },
  {
   "cell_type": "code",
   "execution_count": 17,
   "metadata": {},
   "outputs": [],
   "source": [
    "pred = list(p_vals)\n",
    "attack_df['prediction'] = pred"
   ]
  },
  {
   "cell_type": "code",
   "execution_count": 18,
   "metadata": {},
   "outputs": [
    {
     "data": {
      "text/html": [
       "<div>\n",
       "<style scoped>\n",
       "    .dataframe tbody tr th:only-of-type {\n",
       "        vertical-align: middle;\n",
       "    }\n",
       "\n",
       "    .dataframe tbody tr th {\n",
       "        vertical-align: top;\n",
       "    }\n",
       "\n",
       "    .dataframe thead th {\n",
       "        text-align: right;\n",
       "    }\n",
       "</style>\n",
       "<table border=\"1\" class=\"dataframe\">\n",
       "  <thead>\n",
       "    <tr style=\"text-align: right;\">\n",
       "      <th></th>\n",
       "      <th>xG</th>\n",
       "      <th>prediction</th>\n",
       "      <th>outcome</th>\n",
       "    </tr>\n",
       "  </thead>\n",
       "  <tbody>\n",
       "    <tr>\n",
       "      <th>0</th>\n",
       "      <td>0.047510</td>\n",
       "      <td>0.021967</td>\n",
       "      <td>0</td>\n",
       "    </tr>\n",
       "    <tr>\n",
       "      <th>2</th>\n",
       "      <td>0.435830</td>\n",
       "      <td>0.233172</td>\n",
       "      <td>0</td>\n",
       "    </tr>\n",
       "    <tr>\n",
       "      <th>3</th>\n",
       "      <td>0.085788</td>\n",
       "      <td>0.074239</td>\n",
       "      <td>0</td>\n",
       "    </tr>\n",
       "    <tr>\n",
       "      <th>4</th>\n",
       "      <td>0.067692</td>\n",
       "      <td>0.306119</td>\n",
       "      <td>1</td>\n",
       "    </tr>\n",
       "    <tr>\n",
       "      <th>5</th>\n",
       "      <td>0.594700</td>\n",
       "      <td>0.293314</td>\n",
       "      <td>0</td>\n",
       "    </tr>\n",
       "    <tr>\n",
       "      <th>...</th>\n",
       "      <td>...</td>\n",
       "      <td>...</td>\n",
       "      <td>...</td>\n",
       "    </tr>\n",
       "    <tr>\n",
       "      <th>384458</th>\n",
       "      <td>0.014314</td>\n",
       "      <td>0.014039</td>\n",
       "      <td>0</td>\n",
       "    </tr>\n",
       "    <tr>\n",
       "      <th>384459</th>\n",
       "      <td>0.017178</td>\n",
       "      <td>0.021449</td>\n",
       "      <td>0</td>\n",
       "    </tr>\n",
       "    <tr>\n",
       "      <th>384460</th>\n",
       "      <td>0.020250</td>\n",
       "      <td>0.005085</td>\n",
       "      <td>0</td>\n",
       "    </tr>\n",
       "    <tr>\n",
       "      <th>384461</th>\n",
       "      <td>0.012068</td>\n",
       "      <td>0.015454</td>\n",
       "      <td>0</td>\n",
       "    </tr>\n",
       "    <tr>\n",
       "      <th>384462</th>\n",
       "      <td>0.085987</td>\n",
       "      <td>0.105925</td>\n",
       "      <td>0</td>\n",
       "    </tr>\n",
       "  </tbody>\n",
       "</table>\n",
       "<p>383267 rows × 3 columns</p>\n",
       "</div>"
      ],
      "text/plain": [
       "              xG  prediction  outcome\n",
       "0       0.047510    0.021967        0\n",
       "2       0.435830    0.233172        0\n",
       "3       0.085788    0.074239        0\n",
       "4       0.067692    0.306119        1\n",
       "5       0.594700    0.293314        0\n",
       "...          ...         ...      ...\n",
       "384458  0.014314    0.014039        0\n",
       "384459  0.017178    0.021449        0\n",
       "384460  0.020250    0.005085        0\n",
       "384461  0.012068    0.015454        0\n",
       "384462  0.085987    0.105925        0\n",
       "\n",
       "[383267 rows x 3 columns]"
      ]
     },
     "execution_count": 18,
     "metadata": {},
     "output_type": "execute_result"
    }
   ],
   "source": [
    "attack_df[['xG', 'prediction', 'outcome']]"
   ]
  },
  {
   "cell_type": "code",
   "execution_count": 19,
   "metadata": {},
   "outputs": [
    {
     "data": {
      "text/plain": [
       "Unnamed: 0                           0\n",
       "id                               14642\n",
       "minute                              83\n",
       "result                     BlockedShot\n",
       "X                                0.795\n",
       "Y                                0.321\n",
       "xG                             0.04751\n",
       "player                      Harry Kane\n",
       "h_a                                  a\n",
       "player_id                          647\n",
       "situation                     OpenPlay\n",
       "season                            2014\n",
       "shotType                     RightFoot\n",
       "match_id                          4754\n",
       "h_team                        West Ham\n",
       "a_team                       Tottenham\n",
       "h_goals                              0\n",
       "a_goals                              1\n",
       "date               2014-08-16 15:00:00\n",
       "player_assisted        Andros Townsend\n",
       "lastAction                        Pass\n",
       "dominant_foot                RightFoot\n",
       "is_dominant                          1\n",
       "is_foot                              1\n",
       "outcome                              0\n",
       "prediction                    0.021967\n",
       "Name: 0, dtype: object"
      ]
     },
     "execution_count": 19,
     "metadata": {},
     "output_type": "execute_result"
    }
   ],
   "source": [
    "attack_df.iloc[0]"
   ]
  },
  {
   "cell_type": "code",
   "execution_count": 20,
   "metadata": {},
   "outputs": [
    {
     "data": {
      "image/png": "[encoded data removed]",
      "text/plain": [
       "<Figure size 864x576 with 1 Axes>"
      ]
     },
     "metadata": {
      "needs_background": "light"
     },
     "output_type": "display_data"
    }
   ],
   "source": [
    "understat_fpr, understat_tpr, understat_thresholds = roc_curve(attack_df['outcome'], attack_df['xG'])\n",
    "my_fpr, my_tpr, my_thresholds = roc_curve(attack_df['outcome'], attack_df['prediction'])\n",
    "plt.figure(figsize=(12,8))\n",
    "plt.plot([0,1],[0,1], 'k--')\n",
    "plt.plot(understat_fpr, understat_tpr, label='Understat')\n",
    "plt.plot(my_fpr, my_tpr, label='Sertalp')\n",
    "plt.legend()\n",
    "plt.xlabel('False Positive Rate')\n",
    "plt.ylabel('True Positive Rate')\n",
    "plt.title('ROC Curve')\n",
    "plt.show()"
   ]
  },
  {
   "cell_type": "code",
   "execution_count": 21,
   "metadata": {},
   "outputs": [
    {
     "data": {
      "text/plain": [
       "(40351.8243139322, 40440, 41271.08703612303)"
      ]
     },
     "execution_count": 21,
     "metadata": {},
     "output_type": "execute_result"
    }
   ],
   "source": [
    "attack_df['prediction'].sum(), attack_df['outcome'].sum(), attack_df['xG'].sum()"
   ]
  },
  {
   "cell_type": "code",
   "execution_count": 22,
   "metadata": {},
   "outputs": [
    {
     "data": {
      "text/plain": [
       "0.8335466877217159"
      ]
     },
     "execution_count": 22,
     "metadata": {},
     "output_type": "execute_result"
    }
   ],
   "source": [
    "roc_auc_score(attack_df['outcome'], attack_df['prediction'])"
   ]
  },
  {
   "cell_type": "code",
   "execution_count": 23,
   "metadata": {},
   "outputs": [
    {
     "data": {
      "text/plain": [
       "0.8316771452873846"
      ]
     },
     "execution_count": 23,
     "metadata": {},
     "output_type": "execute_result"
    }
   ],
   "source": [
    "roc_auc_score(attack_df['outcome'], attack_df['xG'])"
   ]
  },
  {
   "cell_type": "code",
   "execution_count": null,
   "metadata": {},
   "outputs": [],
   "source": []
  }
 ],
 "metadata": {
  "interpreter": {
   "hash": "ee5cc6fef2d70a7e71ee3826687cbd150f18158e0b1eef11d4f4f92bb920e304"
  },
  "kernelspec": {
   "display_name": "Python 3.9.4 64-bit",
   "language": "python",
   "name": "python3"
  },
  "language_info": {
   "codemirror_mode": {
    "name": "ipython",
    "version": 3
   },
   "file_extension": ".py",
   "mimetype": "text/x-python",
   "name": "python",
   "nbconvert_exporter": "python",
   "pygments_lexer": "ipython3",
   "version": "3.9.4"
  },
  "orig_nbformat": 4
 },
 "nbformat": 4,
 "nbformat_minor": 2
}
